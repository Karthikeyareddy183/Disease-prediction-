{
 "cells": [
  {
   "cell_type": "code",
   "execution_count": 67,
   "id": "585b289c",
   "metadata": {},
   "outputs": [],
   "source": [
    "#Importing Libraries\n",
    "from mpl_toolkits.mplot3d import Axes3D\n",
    "from sklearn.preprocessing import StandardScaler\n",
    "import matplotlib.pyplot as plt\n",
    "from tkinter import *\n",
    "import numpy as np\n",
    "import pandas as pd\n",
    "import os"
   ]
  },
  {
   "cell_type": "code",
   "execution_count": 68,
   "id": "78b787fe",
   "metadata": {},
   "outputs": [],
   "source": [
    "#List of the symptoms is listed here in list l1.\n",
    "\n",
    "l1=['back_pain','constipation','abdominal_pain','diarrhoea','mild_fever','yellow_urine',\n",
    "    'yellowing_of_eyes','acute_liver_failure','fluid_overload','swelling_of_stomach',\n",
    "    'swelled_lymph_nodes','malaise','blurred_and_distorted_vision','phlegm','throat_irritation',\n",
    "    'redness_of_eyes','sinus_pressure','runny_nose','congestion','chest_pain','weakness_in_limbs',\n",
    "    'fast_heart_rate','pain_during_bowel_movements','pain_in_anal_region','bloody_stool',\n",
    "    'irritation_in_anus','neck_pain','dizziness','cramps','bruising','obesity','swollen_legs',\n",
    "    'swollen_blood_vessels','puffy_face_and_eyes','enlarged_thyroid','brittle_nails',\n",
    "    'swollen_extremeties','excessive_hunger','extra_marital_contacts','drying_and_tingling_lips',\n",
    "    'slurred_speech','knee_pain','hip_joint_pain','muscle_weakness','stiff_neck','swelling_joints',\n",
    "    'movement_stiffness','spinning_movements','loss_of_balance','unsteadiness',\n",
    "    'weakness_of_one_body_side','loss_of_smell','bladder_discomfort','foul_smell_of urine',\n",
    "    'continuous_feel_of_urine','passage_of_gases','internal_itching','toxic_look_(typhos)',\n",
    "    'depression','irritability','muscle_pain','altered_sensorium','red_spots_over_body','belly_pain',\n",
    "    'abnormal_menstruation','dischromic _patches','watering_from_eyes','increased_appetite','polyuria','family_history','mucoid_sputum',\n",
    "    'rusty_sputum','lack_of_concentration','visual_disturbances','receiving_blood_transfusion',\n",
    "    'receiving_unsterile_injections','coma','stomach_bleeding','distention_of_abdomen',\n",
    "    'history_of_alcohol_consumption','fluid_overload','blood_in_sputum','prominent_veins_on_calf',\n",
    "    'palpitations','painful_walking','pus_filled_pimples','blackheads','scurring','skin_peeling',\n",
    "    'silver_like_dusting','small_dents_in_nails','inflammatory_nails','blister','red_sore_around_nose',\n",
    "    'yellow_crust_ooze']"
   ]
  },
  {
   "cell_type": "code",
   "execution_count": 69,
   "id": "e81ade26",
   "metadata": {},
   "outputs": [],
   "source": [
    "#List of Diseases is listed in list disease.\n",
    "\n",
    "disease=['Fungal infection', 'Allergy', 'GERD', 'Chronic cholestasis',\n",
    "       'Drug Reaction', 'Peptic ulcer diseae', 'AIDS', 'Diabetes ',\n",
    "       'Gastroenteritis', 'Bronchial Asthma', 'Hypertension ', 'Migraine',\n",
    "       'Cervical spondylosis', 'Paralysis (brain hemorrhage)', 'Jaundice',\n",
    "       'Malaria', 'Chicken pox', 'Dengue', 'Typhoid', 'hepatitis A',\n",
    "       'Hepatitis B', 'Hepatitis C', 'Hepatitis D', 'Hepatitis E',\n",
    "       'Alcoholic hepatitis', 'Tuberculosis', 'Common Cold', 'Pneumonia',\n",
    "       'Dimorphic hemmorhoids(piles)', 'Heart attack', 'Varicose veins',\n",
    "       'Hypothyroidism', 'Hyperthyroidism', 'Hypoglycemia',\n",
    "       'Osteoarthristis', 'Arthritis',\n",
    "       '(vertigo) Paroymsal  Positional Vertigo', 'Acne',\n",
    "       'Urinary tract infection', 'Psoriasis', 'Impetigo']\n",
    "\n",
    "#disease = [df['prognosis'].unique()]\n",
    "#print(disease)"
   ]
  },
  {
   "cell_type": "code",
   "execution_count": 70,
   "id": "b87286d1",
   "metadata": {},
   "outputs": [],
   "source": [
    "l2=[]\n",
    "for i in range(0,len(l1)):\n",
    "    l2.append(0)\n"
   ]
  },
  {
   "cell_type": "code",
   "execution_count": 71,
   "id": "be71c775",
   "metadata": {},
   "outputs": [],
   "source": [
    "#Reading the training .csv file\n",
    "df=pd.read_csv(\"training.csv\")\n",
    "DF= pd.read_csv('training.csv', index_col='prognosis')\n",
    "#Replace the values in the imported file by pandas by the inbuilt function replace in pandas.\n",
    "\n",
    "df.replace({'prognosis':{'Fungal infection':0,'Allergy':1,'GERD':2,'Chronic cholestasis':3,'Drug Reaction':4,\n",
    "    'Peptic ulcer diseae':5,'AIDS':6,'Diabetes ':7,'Gastroenteritis':8,'Bronchial Asthma':9,'Hypertension ':10,\n",
    "    'Migraine':11,'Cervical spondylosis':12,\n",
    "    'Paralysis (brain hemorrhage)':13,'Jaundice':14,'Malaria':15,'Chicken pox':16,'Dengue':17,'Typhoid':18,'hepatitis A':19,\n",
    "    'Hepatitis B':20,'Hepatitis C':21,'Hepatitis D':22,'Hepatitis E':23,'Alcoholic hepatitis':24,'Tuberculosis':25,\n",
    "    'Common Cold':26,'Pneumonia':27,'Dimorphic hemmorhoids(piles)':28,'Heart attack':29,'Varicose veins':30,'Hypothyroidism':31,\n",
    "    'Hyperthyroidism':32,'Hypoglycemia':33,'Osteoarthristis':34,'Arthritis':35,\n",
    "    '(vertigo) Paroymsal  Positional Vertigo':36,'Acne':37,'Urinary tract infection':38,'Psoriasis':39,\n",
    "    'Impetigo':40}},inplace=True)\n",
    "#df.head()\n",
    "#DF.head()"
   ]
  },
  {
   "cell_type": "code",
   "execution_count": 72,
   "id": "0b13e3a4",
   "metadata": {},
   "outputs": [
    {
     "data": {
      "text/plain": [
       "array([ 0,  0,  0, ..., 38, 39, 40], dtype=int64)"
      ]
     },
     "execution_count": 72,
     "metadata": {},
     "output_type": "execute_result"
    }
   ],
   "source": [
    "X= df[l1]\n",
    "y = df[[\"prognosis\"]]\n",
    "np.ravel(y)\n",
    "#print(X)"
   ]
  },
  {
   "cell_type": "code",
   "execution_count": 73,
   "id": "9fcf5bb2",
   "metadata": {},
   "outputs": [],
   "source": [
    "#Reading the  testing.csv file\n",
    "tr=pd.read_csv(\"testing.csv\")\n",
    "\n",
    "#Using inbuilt function replace in pandas for replacing the values\n",
    "\n",
    "tr.replace({'prognosis':{'Fungal infection':0,'Allergy':1,'GERD':2,'Chronic cholestasis':3,'Drug Reaction':4,\n",
    "    'Peptic ulcer diseae':5,'AIDS':6,'Diabetes ':7,'Gastroenteritis':8,'Bronchial Asthma':9,'Hypertension ':10,\n",
    "    'Migraine':11,'Cervical spondylosis':12,\n",
    "    'Paralysis (brain hemorrhage)':13,'Jaundice':14,'Malaria':15,'Chicken pox':16,'Dengue':17,'Typhoid':18,'hepatitis A':19,\n",
    "    'Hepatitis B':20,'Hepatitis C':21,'Hepatitis D':22,'Hepatitis E':23,'Alcoholic hepatitis':24,'Tuberculosis':25,\n",
    "    'Common Cold':26,'Pneumonia':27,'Dimorphic hemmorhoids(piles)':28,'Heart attack':29,'Varicose veins':30,'Hypothyroidism':31,\n",
    "    'Hyperthyroidism':32,'Hypoglycemia':33,'Osteoarthristis':34,'Arthritis':35,\n",
    "    '(vertigo) Paroymsal  Positional Vertigo':36,'Acne':37,'Urinary tract infection':38,'Psoriasis':39,\n",
    "    'Impetigo':40}},inplace=True)\n",
    "#tr.head()"
   ]
  },
  {
   "cell_type": "code",
   "execution_count": 74,
   "id": "5e1b173e",
   "metadata": {},
   "outputs": [
    {
     "data": {
      "text/plain": [
       "array([ 0,  1,  2,  3,  4,  5,  6,  7,  8,  9, 10, 11, 12, 13, 14, 15, 16,\n",
       "       17, 18, 19, 20, 21, 22, 23, 24, 25, 26, 27, 28, 29, 30, 31, 32, 33,\n",
       "       34, 35, 36, 37, 38, 39, 40], dtype=int64)"
      ]
     },
     "execution_count": 74,
     "metadata": {},
     "output_type": "execute_result"
    }
   ],
   "source": [
    "X_test= tr[l1]\n",
    "y_test = tr[[\"prognosis\"]]\n",
    "np.ravel(y_test)\n",
    "#print(X_test)"
   ]
  },
  {
   "cell_type": "code",
   "execution_count": 75,
   "id": "23861b51",
   "metadata": {},
   "outputs": [],
   "source": [
    "#list1 = DF['prognosis'].unique()\n",
    "def scatterplt(disea):\n",
    "    x = ((DF.loc[disea]).sum())#total sum of symptom reported for given disease\n",
    "    x.drop(x[x==0].index,inplace=True)#droping symptoms with values 0\n",
    "    print(x.values)\n",
    "    y = x.keys()#storing nameof symptoms in y\n",
    "    print(len(x))\n",
    "    print(len(y))\n",
    "    plt.title(disea)\n",
    "    plt.scatter(y,x.values)\n",
    "    plt.show()\n",
    "\n",
    "def scatterinp(sym1,sym2,sym3,sym4,sym5):\n",
    "    x = [sym1,sym2,sym3,sym4,sym5]#storing input symptoms in y\n",
    "    y = [0,0,0,0,0]#creating and giving values to the input symptoms\n",
    "    if(sym1!='Select Here'):\n",
    "        y[0]=1\n",
    "    if(sym2!='Select Here'):\n",
    "        y[1]=1\n",
    "    if(sym3!='Select Here'):\n",
    "        y[2]=1\n",
    "    if(sym4!='Select Here'):\n",
    "        y[3]=1\n",
    "    if(sym5!='Select Here'):\n",
    "        y[4]=1\n",
    "    print(x)\n",
    "    print(y)\n",
    "    plt.scatter(x,y)\n",
    "    plt.show()"
   ]
  },
  {
   "cell_type": "code",
   "execution_count": 76,
   "id": "9632f265",
   "metadata": {},
   "outputs": [],
   "source": [
    "root = Tk()\n",
    "pred=StringVar()\n",
    "def KNN():\n",
    "    if len(NameEn.get()) == 0:\n",
    "        pred1.set(\" \")\n",
    "        comp=messagebox.askokcancel(\"System\",\"Kindly Fill the Name\")\n",
    "        if comp:\n",
    "            root.mainloop()\n",
    "    elif((Symptom1.get()==\"Select Here\") or (Symptom2.get()==\"Select Here\")):\n",
    "        pred1.set(\" \")\n",
    "        sym=messagebox.askokcancel(\"System\",\"Kindly Fill atleast first two Symptoms\")\n",
    "        if sym:\n",
    "            root.mainloop()\n",
    "    else:\n",
    "        from sklearn.neighbors import KNeighborsClassifier\n",
    "        knn=KNeighborsClassifier(n_neighbors=5,metric='minkowski',p=2)\n",
    "        knn=knn.fit(X,np.ravel(y))\n",
    "    \n",
    "        from sklearn.metrics import classification_report,confusion_matrix,accuracy_score\n",
    "        y_pred=knn.predict(X_test)\n",
    "        #print(\"kNearest Neighbour\")\n",
    "        #print(\"Accuracy\")\n",
    "        #print(accuracy_score(y_test, y_pred))\n",
    "        #print(accuracy_score(y_test, y_pred,normalize=False))\n",
    "        #print(\"Confusion matrix\")\n",
    "        #conf_matrix=confusion_matrix(y_test,y_pred)\n",
    "        #print(conf_matrix)\n",
    "\n",
    "        psymptoms = [Symptom1.get(),Symptom2.get(),Symptom3.get(),Symptom4.get(),Symptom5.get()]\n",
    "\n",
    "        for k in range(0,len(l1)):\n",
    "            for z in psymptoms:\n",
    "                if(z==l1[k]):\n",
    "                    l2[k]=1\n",
    "\n",
    "        inputtest = [l2]\n",
    "        predict = knn.predict(inputtest)\n",
    "        predicted=predict[0]\n",
    "\n",
    "        h='no'\n",
    "        for a in range(0,len(disease)):\n",
    "            if(predicted == a):\n",
    "                h='yes'\n",
    "                break\n",
    "\n",
    "\n",
    "        if (h=='yes'):\n",
    "            pred.set(\" \")\n",
    "            pred.set(disease[a])\n",
    "        else:\n",
    "            pred.set(\" \")\n",
    "            pred.set(\"Not Found\")\n",
    "         #Creating the database if not exists named as database.db and creating table if not exists named as KNearestNeighbour using sqlite3   \n",
    "        import sqlite3 \n",
    "        conn = sqlite3.connect('database.db') \n",
    "        c = conn.cursor() \n",
    "        c.execute(\"CREATE TABLE IF NOT EXISTS KNearestNeighbour(Name StringVar,Symtom1 StringVar,Symtom2 StringVar,Symtom3 StringVar,Symtom4 TEXT,Symtom5 TEXT,Disease StringVar)\")\n",
    "        c.execute(\"INSERT INTO KNearestNeighbour(Name,Symtom1,Symtom2,Symtom3,Symtom4,Symtom5,Disease) VALUES(?,?,?,?,?,?,?)\",(NameEn.get(),Symptom1.get(),Symptom2.get(),Symptom3.get(),Symptom4.get(),Symptom5.get(),pred.get()))\n",
    "        conn.commit()  \n",
    "        c.close() \n",
    "        conn.close()\n",
    "        #printing scatter plot of disease predicted vs its symptoms\n",
    "        \n",
    "        #scatterplt(pred.get())"
   ]
  },
  {
   "cell_type": "code",
   "execution_count": 77,
   "id": "f166d11b",
   "metadata": {},
   "outputs": [
    {
     "data": {
      "text/plain": [
       "''"
      ]
     },
     "execution_count": 77,
     "metadata": {},
     "output_type": "execute_result"
    }
   ],
   "source": [
    "#Tk class is used to create a root window\n",
    "root.configure(background='white')\n",
    "root.title('Smart Disease Predictor System')\n",
    "root.resizable(0,0)"
   ]
  },
  {
   "cell_type": "code",
   "execution_count": 78,
   "id": "31b4b1e5",
   "metadata": {},
   "outputs": [],
   "source": [
    "Symptom1 = StringVar()\n",
    "Symptom1.set(\"Select Here\")\n",
    "\n",
    "Symptom2 = StringVar()\n",
    "Symptom2.set(\"Select Here\")\n",
    "\n",
    "Symptom3 = StringVar()\n",
    "Symptom3.set(\"Select Here\")\n",
    "\n",
    "Symptom4 = StringVar()\n",
    "Symptom4.set(\"Select Here\")\n",
    "\n",
    "Symptom5 = StringVar()\n",
    "Symptom5.set(\"Select Here\")\n",
    "Name = StringVar()"
   ]
  },
  {
   "cell_type": "code",
   "execution_count": 79,
   "id": "c7362f13",
   "metadata": {},
   "outputs": [],
   "source": [
    "prev_win=None\n",
    "def Reset():\n",
    "    global prev_win\n",
    "\n",
    "    Symptom1.set(\"Select Here\")\n",
    "    Symptom2.set(\"Select Here\")\n",
    "    Symptom3.set(\"Select Here\")\n",
    "    Symptom4.set(\"Select Here\")\n",
    "    Symptom5.set(\"Select Here\")\n",
    "    NameEn.delete(first=0,last=100)\n",
    "    pred1.set(\" \")\n",
    "    pred2.set(\" \")\n",
    "    pred3.set(\" \")\n",
    "    pred4.set(\" \")\n",
    "    try:\n",
    "        prev_win.destroy()\n",
    "        prev_win=None\n",
    "    except AttributeError:\n",
    "        pass"
   ]
  },
  {
   "cell_type": "code",
   "execution_count": 80,
   "id": "c2a000f9",
   "metadata": {},
   "outputs": [],
   "source": [
    "from tkinter import messagebox\n",
    "def Exit():\n",
    "    qExit=messagebox.askyesno(\"System\",\"Do you want to exit the system\")\n",
    "    \n",
    "    if qExit:\n",
    "        root.destroy()\n",
    "        exit()"
   ]
  },
  {
   "cell_type": "code",
   "execution_count": 81,
   "id": "a636675c",
   "metadata": {},
   "outputs": [],
   "source": [
    "#Headings for the GUI written at the top of GUI\n",
    "w2 = Label(root, justify=LEFT, text=\"Disease Predictor using Machine Learning\", fg=\"#05d7ff\", bg=\"white\")\n",
    "w2.config(font=(\"Country Codes\",30,\"bold italic\"))\n",
    "w2.grid(row=1, column=0, columnspan=2, padx=100)"
   ]
  },
  {
   "cell_type": "code",
   "execution_count": 82,
   "id": "623b9019",
   "metadata": {},
   "outputs": [],
   "source": [
    "#Label for the name\n",
    "NameLb = Label(root, text=\"Name of the Patient *\", fg=\"#05d7ff\", bg=\"white\")\n",
    "NameLb.config(font=(\"Country Codes\",15,\"bold italic\"))\n",
    "NameLb.grid(row=6, column=0, pady=15, sticky=W)"
   ]
  },
  {
   "cell_type": "code",
   "execution_count": 83,
   "id": "999130ba",
   "metadata": {},
   "outputs": [],
   "source": [
    "\n",
    "#Creating Labels for the symtoms\n",
    "S1Lb = Label(root, text=\"Symptom 1 *\", fg=\"#05d7ff\", bg=\"white\")\n",
    "S1Lb.config(font=(\"Country Codes\",15,\"bold italic\"))\n",
    "S1Lb.grid(row=7, column=0, pady=10, sticky=W)\n",
    "\n",
    "S2Lb = Label(root, text=\"Symptom 2 *\", fg=\"#05d7ff\", bg=\"white\")\n",
    "S2Lb.config(font=(\"Country Codes\",15,\"bold italic\"))\n",
    "S2Lb.grid(row=8, column=0, pady=10, sticky=W)\n",
    "\n",
    "S3Lb = Label(root, text=\"Symptom 3\", fg=\"#05d7ff\",bg=\"white\")\n",
    "S3Lb.config(font=(\"Country Codes\",15,\"bold italic\"))\n",
    "S3Lb.grid(row=9, column=0, pady=10, sticky=W)\n",
    "\n",
    "S4Lb = Label(root, text=\"Symptom 4\", fg=\"#05d7ff\", bg=\"white\")\n",
    "S4Lb.config(font=(\"Country Codes\",15,\"bold italic\"))\n",
    "S4Lb.grid(row=10, column=0, pady=10, sticky=W)\n",
    "\n",
    "S5Lb = Label(root, text=\"Symptom 5\", fg=\"#05d7ff\", bg=\"white\")\n",
    "S5Lb.config(font=(\"Country Codes\",15,\"bold italic\"))\n",
    "S5Lb.grid(row=11, column=0, pady=10, sticky=W)"
   ]
  },
  {
   "cell_type": "code",
   "execution_count": 84,
   "id": "9914b46b",
   "metadata": {},
   "outputs": [],
   "source": [
    "#Labels for the different algorithms\n",
    "\n",
    "knnLb = Label(root, text=\"The Predicted Disease Is\", fg=\"#05d7ff\", bg=\"white\", width = 20)\n",
    "knnLb.config(font=(\"Country Codes\",15,\"bold italic\"))\n",
    "knnLb.grid(row=21, column=0, pady=10, sticky=W)\n",
    "OPTIONS = sorted(l1)"
   ]
  },
  {
   "cell_type": "code",
   "execution_count": 85,
   "id": "9699b9f1",
   "metadata": {},
   "outputs": [],
   "source": [
    "#Taking name as input from user\n",
    "NameEn = Entry(root, textvariable=Name)\n",
    "NameEn.grid(row=6, column=1)\n",
    "\n",
    "#Taking Symptoms as input from the dropdown from the user\n",
    "S1 = OptionMenu(root, Symptom1,*OPTIONS)\n",
    "S1.grid(row=7, column=1)\n",
    "\n",
    "S2 = OptionMenu(root, Symptom2,*OPTIONS)\n",
    "S2.grid(row=8, column=1)\n",
    "\n",
    "S3 = OptionMenu(root, Symptom3,*OPTIONS)\n",
    "S3.grid(row=9, column=1)\n",
    "\n",
    "S4 = OptionMenu(root, Symptom4,*OPTIONS)\n",
    "S4.grid(row=10, column=1)\n",
    "\n",
    "S5 = OptionMenu(root, Symptom5,*OPTIONS)\n",
    "S5.grid(row=11, column=1)"
   ]
  },
  {
   "cell_type": "code",
   "execution_count": 86,
   "id": "845935a4",
   "metadata": {},
   "outputs": [],
   "source": [
    "#Buttons for predicting the disease using different algorithms\n",
    "\n",
    "colour1='#020f12'\n",
    "colour2='#05d7ff'\n",
    "colour3='#65e7ff'\n",
    "colour4='black'\n",
    "\n",
    "\n",
    "kn = Button(root,command=KNN,background=colour2,\n",
    "    foreground=colour4,\n",
    "    activebackground=colour3,\n",
    "    activeforeground=colour4,\n",
    "    highlightthickness=2,\n",
    "    highlightbackground=colour2,\n",
    "    highlightcolor='white',\n",
    "    width=13,\n",
    "    height=2,\n",
    "    border=0,\n",
    "    cursor='hand2',\n",
    "    text='Predict')\n",
    "kn.config(font=(\"Country codes\",15,\"bold italic\"))\n",
    "kn.grid(row=7, column=3,padx=10)\n",
    "\n",
    "\n",
    "\n",
    "rs = Button(root,command=Reset,\n",
    "    background=colour2,\n",
    "    foreground=colour4,\n",
    "    activebackground=colour3,\n",
    "    activeforeground=colour4,\n",
    "    highlightthickness=2,\n",
    "    highlightbackground=colour2,\n",
    "    highlightcolor='white',\n",
    "    width=13,\n",
    "    height=2,\n",
    "    border=0,\n",
    "    cursor='hand2',\n",
    "    text='Rest Inputs',\n",
    ")\n",
    "rs.config(font=(\"Country codes\",15,\"bold italic\"))\n",
    "rs.grid(row=9,column=3,padx=10)\n",
    "\n",
    "ex = Button(root,command=Exit, background=colour2,\n",
    "    foreground=colour4,\n",
    "    activebackground=colour3,\n",
    "    activeforeground=colour4,\n",
    "    highlightthickness=2,\n",
    "    highlightbackground=colour2,\n",
    "    highlightcolor='white',\n",
    "    width=13,\n",
    "    height=2,\n",
    "    border=0,\n",
    "    cursor='hand2',\n",
    "    text='Exit System',\n",
    "           )\n",
    "ex.config(font=(\"Country codes\",15,\"bold italic\"))\n",
    "ex.grid(row=11,column=3,padx=10)\n",
    "\n"
   ]
  },
  {
   "cell_type": "code",
   "execution_count": 87,
   "id": "8fc90a4c",
   "metadata": {},
   "outputs": [],
   "source": [
    "#Showing the output of different aldorithms\n",
    "t4=Label(root,font=(\"Country Codes\",15,\"bold italic\"),text=\"The Predicted Diseease is\",height=1,bg=\"white\"\n",
    "         ,width=40,fg=\"red\",textvariable=pred,relief=\"sunken\").grid(row=21, column=1, padx=10)"
   ]
  },
  {
   "cell_type": "code",
   "execution_count": 88,
   "id": "aa8df891",
   "metadata": {},
   "outputs": [],
   "source": [
    "#calling this function because the application is ready to run\n",
    "root.mainloop()"
   ]
  },
  {
   "cell_type": "code",
   "execution_count": null,
   "id": "c64e0a23",
   "metadata": {},
   "outputs": [],
   "source": []
  }
 ],
 "metadata": {
  "kernelspec": {
   "display_name": "Python 3 (ipykernel)",
   "language": "python",
   "name": "python3"
  },
  "language_info": {
   "codemirror_mode": {
    "name": "ipython",
    "version": 3
   },
   "file_extension": ".py",
   "mimetype": "text/x-python",
   "name": "python",
   "nbconvert_exporter": "python",
   "pygments_lexer": "ipython3",
   "version": "3.9.13"
  }
 },
 "nbformat": 4,
 "nbformat_minor": 5
}
